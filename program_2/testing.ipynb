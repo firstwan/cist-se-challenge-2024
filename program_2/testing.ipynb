{
 "cells": [
  {
   "cell_type": "code",
   "execution_count": 3,
   "id": "c667a407",
   "metadata": {},
   "outputs": [
    {
     "name": "stdout",
     "output_type": "stream",
     "text": [
      "\n",
      "[#] Verify top 10 dataset\n",
      "{'status': 200, 'error': '', 'message': 'Success! Results matched'}\n"
     ]
    }
   ],
   "source": [
    "# Verify the dataset\n",
    "import requests\n",
    "import json\n",
    "\n",
    "print()\n",
    "print(\"[#] Verify top 10 dataset\")\n",
    "url=\"https://u8whitimu7.execute-api.ap-southeast-1.amazonaws.com/prod\"\n",
    "with open(\"topk_results.json\", \"r\") as outfile:\n",
    "\tpayload={ \"data\": json.load(outfile) }\n",
    "r = requests.post(f\"{url}/test/check-topk-sort\", json=payload)\n",
    "print(r.json())"
   ]
  }
 ],
 "metadata": {
  "kernelspec": {
   "display_name": "myenv",
   "language": "python",
   "name": "python3"
  },
  "language_info": {
   "codemirror_mode": {
    "name": "ipython",
    "version": 3
   },
   "file_extension": ".py",
   "mimetype": "text/x-python",
   "name": "python",
   "nbconvert_exporter": "python",
   "pygments_lexer": "ipython3",
   "version": "3.12.6"
  }
 },
 "nbformat": 4,
 "nbformat_minor": 5
}
